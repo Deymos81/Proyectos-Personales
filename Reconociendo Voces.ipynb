{
 "cells": [
  {
   "cell_type": "code",
   "execution_count": 18,
   "metadata": {},
   "outputs": [
    {
     "name": "stdout",
     "output_type": "stream",
     "text": [
      "Di algo!\n",
      "listo!! Gracias!!\n",
      "Dijiste: hola Carmen qué tal estás un rato y provechoso día\n"
     ]
    }
   ],
   "source": [
    "# + info: https://github.com/rahulvaish/SpeechToText-TextToSpeech-Python\n",
    "# Reconocedor de voz desde Micrófono:\n",
    "import speech_recognition as sr\n",
    "r=sr.Recognizer()\n",
    "with sr.Microphone() as source:\n",
    "    print('Di algo!');\n",
    "    audio = r.listen(source)\n",
    "    print('listo!! Gracias!!')\n",
    "    \n",
    "try:\n",
    "    print('Dijiste: '+ r.recognize_google(audio, language='es-ES'));\n",
    "except:\n",
    "    pass"
   ]
  },
  {
   "cell_type": "code",
   "execution_count": 21,
   "metadata": {},
   "outputs": [
    {
     "name": "stdout",
     "output_type": "stream",
     "text": [
      "Dijiste: hola qué tal estás sabes que yo muy bien a ver que no se escucha Python de todo esto\n"
     ]
    }
   ],
   "source": [
    "# Reconocedor de voz desde Fichero:\n",
    "import speech_recognition as sr\n",
    "r=sr.Recognizer()\n",
    "with sr.AudioFile(\"C://Users//israe//Documents//Grabaciones de sonido//Grabación.wav\") as source:\n",
    "    audio=r.record(source)\n",
    "    \n",
    "try:\n",
    "    s=r.recognize_google(audio, language='es-ES')\n",
    "    print('Dijiste: '+ s);\n",
    "except:\n",
    "    pass"
   ]
  },
  {
   "cell_type": "code",
   "execution_count": null,
   "metadata": {},
   "outputs": [],
   "source": []
  }
 ],
 "metadata": {
  "kernelspec": {
   "display_name": "Python 3",
   "language": "python",
   "name": "python3"
  },
  "language_info": {
   "codemirror_mode": {
    "name": "ipython",
    "version": 3
   },
   "file_extension": ".py",
   "mimetype": "text/x-python",
   "name": "python",
   "nbconvert_exporter": "python",
   "pygments_lexer": "ipython3",
   "version": "3.7.3"
  },
  "widgets": {
   "application/vnd.jupyter.widget-state+json": {
    "state": {},
    "version_major": 2,
    "version_minor": 0
   }
  }
 },
 "nbformat": 4,
 "nbformat_minor": 2
}
